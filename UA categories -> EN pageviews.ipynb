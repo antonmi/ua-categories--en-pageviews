{
 "cells": [
  {
   "cell_type": "markdown",
   "metadata": {},
   "source": [
    "# Categories -> Pageviews"
   ]
  },
  {
   "cell_type": "markdown",
   "metadata": {},
   "source": [
    "### Anton Mishchuk, Oleh Kariuk, Volodymyr Byno, Volodymyr Maletskyi, Denis Porplenko"
   ]
  },
  {
   "cell_type": "markdown",
   "metadata": {},
   "source": [
    "### Motivation\n",
    "There are lots of articles in UA wiki that are not translated into EN (or other languages). When volunteers want to translate an article it is quite difficult for them to understand where to start. We are going to build a system that will recommend a UA article that will be likely quite popular in a target language. "
   ]
  },
  {
   "cell_type": "markdown",
   "metadata": {},
   "source": [
    "### Problem statement\n",
    "Create a system that can recommend UA article which, after being translated, will be popular (in terms of page views) in EN wiki. (Actually, we can choose any target language, not only English)\n"
   ]
  },
  {
   "cell_type": "markdown",
   "metadata": {},
   "source": [
    "### Approach\n",
    "We assume that the popularity of articles correlates with their categories. Knowing which categories more popular we can recommend the corresponding articles.\n",
    "The following steps need to be implemented:\n",
    "\n",
    "1. For each UA page extract categories.\n",
    "2. For each translated UA page fetch pageviews of corresponding EN pageviews in 2018.\n",
    "3. Build an ML model that uses “UA categories” as input and “EN pageviews” as output\n",
    "4. Predict “EN pageviews” for UA pages without translation.\n",
    "5. Rank pages based on the pageviews.\n"
   ]
  },
  {
   "cell_type": "markdown",
   "metadata": {},
   "source": [
    "### Data\n",
    "UA wiki (https://dumps.wikimedia.org/ukwiki/20190420/):\n",
    "    \n",
    "- ukwiki-20190420-page.sql - pages\n",
    "- ukwiki-20190420-category.sql.gz - contains categories for articles\n",
    "- ukwiki-20190420-categorylinks.sql - links from pages to categories\n",
    "- ukwiki-20190420-langlinks.sql - links to other languages\n",
    "\n",
    "EN wiki (https://dumps.wikimedia.org/enwiki/20190420/):\n",
    "- enwiki-20190420-page.sql.gz -  pages\n"
   ]
  },
  {
   "cell_type": "markdown",
   "metadata": {},
   "source": [
    "### Data preprocessing\n",
    "SQL dumps were imported into MariaDB and the following SQL was executed"
   ]
  },
  {
   "cell_type": "markdown",
   "metadata": {},
   "source": [
    "```sql\n",
    "SELECT DISTINCT\n",
    "uk_page.page_id as uk_page_id,\n",
    "uk_page.page_title as uk_page_title,\n",
    "uk_page.page_touched as uk_page_touched,\n",
    "en_page.page_id as en_page_id,\n",
    "en_page.page_title as en_page_title, \n",
    "category.cat_id as cat_id,\n",
    "category.cat_title as cat_title,  \n",
    "category.cat_pages as cat_pages\n",
    "FROM uk_page\n",
    "JOIN categorylinks ON uk_page.page_id = categorylinks.cl_from AND categorylinks.cl_type = 'page'\n",
    "JOIN category ON categorylinks.cl_to = category.cat_title \n",
    "LEFT JOIN langlinks ON uk_page.page_id = langlinks.ll_from AND (langlinks.ll_lang = 'en' OR langlinks.ll_lang IS NULL)\n",
    "LEFT JOIN en_page ON langlinks.ll_title = en_page.page_title AND (en_page.page_namespace = 0 OR en_page.page_namespace IS NULL)\n",
    "WHERE uk_page.page_is_redirect = 0 AND uk_page.page_namespace = 0 AND uk_page.page_is_new = 0\n",
    "AND category.cat_title NOT LIKE '%:%' \n",
    "AND category.cat_title NOT LIKE \"Незавершені_%\" \n",
    "AND category.cat_title NOT LIKE \"Статті_%\"\n",
    "AND category.cat_title NOT LIKE \"%_статті%\" \n",
    "AND category.cat_title NOT LIKE \"Сторінки_%\"\n",
    "AND category.cat_title NOT LIKE \"Всі_сторінки_%\" \n",
    "AND category.cat_title NOT LIKE \"%_за_алфавітом\"\n",
    "AND category.cat_title NOT LIKE \"Файли_%\"\n",
    "AND category.cat_title NOT LIKE \"Зображення_%\"\n",
    "AND category.cat_title NOT LIKE \"User_%\"\n",
    "ORDER BY uk_page.page_id\n",
    "```"
   ]
  },
  {
   "cell_type": "markdown",
   "metadata": {},
   "source": [
    "The results were saved in 'pages.csv' file."
   ]
  },
  {
   "cell_type": "code",
   "execution_count": 1,
   "metadata": {},
   "outputs": [],
   "source": [
    "import pandas as pd\n",
    "import zipfile\n",
    "import numpy as np\n",
    "import matplotlib.pyplot as plt\n",
    "%matplotlib inline\n",
    "from tqdm import tqdm_notebook as tqdm \n",
    "pd.set_option('display.max_colwidth', -1)"
   ]
  },
  {
   "cell_type": "code",
   "execution_count": 2,
   "metadata": {},
   "outputs": [
    {
     "name": "stderr",
     "output_type": "stream",
     "text": [
      "b'Skipping line 329704: expected 8 fields, saw 9\\n'\n",
      "b'Skipping line 2455322: expected 8 fields, saw 9\\nSkipping line 2455323: expected 8 fields, saw 9\\nSkipping line 2455324: expected 8 fields, saw 9\\nSkipping line 2455325: expected 8 fields, saw 9\\n'\n",
      "b'Skipping line 3086952: expected 8 fields, saw 9\\nSkipping line 3086953: expected 8 fields, saw 9\\n'\n",
      "b'Skipping line 3224952: expected 8 fields, saw 9\\n'\n"
     ]
    },
    {
     "data": {
      "text/html": [
       "<div>\n",
       "<style scoped>\n",
       "    .dataframe tbody tr th:only-of-type {\n",
       "        vertical-align: middle;\n",
       "    }\n",
       "\n",
       "    .dataframe tbody tr th {\n",
       "        vertical-align: top;\n",
       "    }\n",
       "\n",
       "    .dataframe thead th {\n",
       "        text-align: right;\n",
       "    }\n",
       "</style>\n",
       "<table border=\"1\" class=\"dataframe\">\n",
       "  <thead>\n",
       "    <tr style=\"text-align: right;\">\n",
       "      <th></th>\n",
       "      <th>uk_page_id</th>\n",
       "      <th>uk_page_title</th>\n",
       "      <th>uk_page_touched</th>\n",
       "      <th>en_page_id</th>\n",
       "      <th>en_page_title</th>\n",
       "      <th>cat_id</th>\n",
       "      <th>cat_title</th>\n",
       "      <th>cat_pages</th>\n",
       "    </tr>\n",
       "  </thead>\n",
       "  <tbody>\n",
       "    <tr>\n",
       "      <th>0</th>\n",
       "      <td>13</td>\n",
       "      <td>Географія</td>\n",
       "      <td>20190417081543</td>\n",
       "      <td>18963910.0</td>\n",
       "      <td>Geography</td>\n",
       "      <td>3925.0</td>\n",
       "      <td>Географія</td>\n",
       "      <td>35.0</td>\n",
       "    </tr>\n",
       "    <tr>\n",
       "      <th>1</th>\n",
       "      <td>13</td>\n",
       "      <td>Географія</td>\n",
       "      <td>20190417081543</td>\n",
       "      <td>18963910.0</td>\n",
       "      <td>Geography</td>\n",
       "      <td>8892.0</td>\n",
       "      <td>МГЕ</td>\n",
       "      <td>9748.0</td>\n",
       "    </tr>\n",
       "    <tr>\n",
       "      <th>2</th>\n",
       "      <td>584</td>\n",
       "      <td>Атом</td>\n",
       "      <td>20190417081543</td>\n",
       "      <td>902.0</td>\n",
       "      <td>Atom</td>\n",
       "      <td>22848.0</td>\n",
       "      <td>Атоми</td>\n",
       "      <td>16.0</td>\n",
       "    </tr>\n",
       "    <tr>\n",
       "      <th>3</th>\n",
       "      <td>584</td>\n",
       "      <td>Атом</td>\n",
       "      <td>20190417081543</td>\n",
       "      <td>902.0</td>\n",
       "      <td>Atom</td>\n",
       "      <td>2448.0</td>\n",
       "      <td>Базові_поняття_фізики</td>\n",
       "      <td>121.0</td>\n",
       "    </tr>\n",
       "    <tr>\n",
       "      <th>4</th>\n",
       "      <td>584</td>\n",
       "      <td>Атом</td>\n",
       "      <td>20190417081543</td>\n",
       "      <td>902.0</td>\n",
       "      <td>Atom</td>\n",
       "      <td>6952725.0</td>\n",
       "      <td>Основні_поняття_хімії</td>\n",
       "      <td>29.0</td>\n",
       "    </tr>\n",
       "  </tbody>\n",
       "</table>\n",
       "</div>"
      ],
      "text/plain": [
       "   uk_page_id uk_page_title  uk_page_touched  en_page_id en_page_title  \\\n",
       "0  13          Географія     20190417081543   18963910.0  Geography      \n",
       "1  13          Географія     20190417081543   18963910.0  Geography      \n",
       "2  584         Атом          20190417081543   902.0       Atom           \n",
       "3  584         Атом          20190417081543   902.0       Atom           \n",
       "4  584         Атом          20190417081543   902.0       Atom           \n",
       "\n",
       "      cat_id              cat_title  cat_pages  \n",
       "0  3925.0     Географія              35.0       \n",
       "1  8892.0     МГЕ                    9748.0     \n",
       "2  22848.0    Атоми                  16.0       \n",
       "3  2448.0     Базові_поняття_фізики  121.0      \n",
       "4  6952725.0  Основні_поняття_хімії  29.0       "
      ]
     },
     "execution_count": 2,
     "metadata": {},
     "output_type": "execute_result"
    }
   ],
   "source": [
    "zip_file = zipfile.ZipFile('pages.csv.zip')\n",
    "df = pd.read_csv(zip_file.open('pages.csv'), error_bad_lines=False)\n",
    "df.head()"
   ]
  },
  {
   "cell_type": "code",
   "execution_count": 3,
   "metadata": {},
   "outputs": [
    {
     "data": {
      "text/plain": [
       "(3310792, 8)"
      ]
     },
     "execution_count": 3,
     "metadata": {},
     "output_type": "execute_result"
    }
   ],
   "source": [
    "df.shape"
   ]
  },
  {
   "cell_type": "code",
   "execution_count": 4,
   "metadata": {},
   "outputs": [],
   "source": [
    "categories_for_pages = {}\n",
    "for i, row in df.iterrows():\n",
    "    uk_page_id = row['uk_page_id']\n",
    "    if uk_page_id in categories_for_pages:\n",
    "        categories_for_pages[uk_page_id].append(str(row['cat_title']))\n",
    "    else:\n",
    "        categories_for_pages[uk_page_id] = [str(row['cat_title'])]"
   ]
  },
  {
   "cell_type": "code",
   "execution_count": 5,
   "metadata": {},
   "outputs": [
    {
     "data": {
      "text/html": [
       "<div>\n",
       "<style scoped>\n",
       "    .dataframe tbody tr th:only-of-type {\n",
       "        vertical-align: middle;\n",
       "    }\n",
       "\n",
       "    .dataframe tbody tr th {\n",
       "        vertical-align: top;\n",
       "    }\n",
       "\n",
       "    .dataframe thead th {\n",
       "        text-align: right;\n",
       "    }\n",
       "</style>\n",
       "<table border=\"1\" class=\"dataframe\">\n",
       "  <thead>\n",
       "    <tr style=\"text-align: right;\">\n",
       "      <th></th>\n",
       "      <th>uk_page_id</th>\n",
       "      <th>uk_page_title</th>\n",
       "      <th>en_page_id</th>\n",
       "    </tr>\n",
       "  </thead>\n",
       "  <tbody>\n",
       "    <tr>\n",
       "      <th>0</th>\n",
       "      <td>13</td>\n",
       "      <td>Географія</td>\n",
       "      <td>18963910.0</td>\n",
       "    </tr>\n",
       "    <tr>\n",
       "      <th>1</th>\n",
       "      <td>584</td>\n",
       "      <td>Атом</td>\n",
       "      <td>902.0</td>\n",
       "    </tr>\n",
       "    <tr>\n",
       "      <th>2</th>\n",
       "      <td>585</td>\n",
       "      <td>Мільярд</td>\n",
       "      <td>1136363.0</td>\n",
       "    </tr>\n",
       "    <tr>\n",
       "      <th>3</th>\n",
       "      <td>586</td>\n",
       "      <td>Ядро</td>\n",
       "      <td>NaN</td>\n",
       "    </tr>\n",
       "    <tr>\n",
       "      <th>4</th>\n",
       "      <td>587</td>\n",
       "      <td>Мільйон</td>\n",
       "      <td>1045999.0</td>\n",
       "    </tr>\n",
       "  </tbody>\n",
       "</table>\n",
       "</div>"
      ],
      "text/plain": [
       "   uk_page_id uk_page_title  en_page_id\n",
       "0  13          Географія     18963910.0\n",
       "1  584         Атом          902.0     \n",
       "2  585         Мільярд       1136363.0 \n",
       "3  586         Ядро         NaN        \n",
       "4  587         Мільйон       1045999.0 "
      ]
     },
     "execution_count": 5,
     "metadata": {},
     "output_type": "execute_result"
    }
   ],
   "source": [
    "pages = df.groupby(['uk_page_id', 'uk_page_title']).sum().reset_index()\n",
    "pages = pages[['uk_page_id', 'uk_page_title']]\n",
    "uk_to_en = df.groupby(['uk_page_id', 'en_page_id']).sum().reset_index()\n",
    "uk_to_en = uk_to_en[['uk_page_id', 'en_page_id']]\n",
    "pages = pd.merge(pages, uk_to_en, on='uk_page_id', how='left')\n",
    "pages.head()"
   ]
  },
  {
   "cell_type": "code",
   "execution_count": 6,
   "metadata": {},
   "outputs": [],
   "source": [
    "pages['categories'] = pages.apply(lambda row: \" \".join(categories_for_pages[row['uk_page_id']]), axis=1)"
   ]
  },
  {
   "cell_type": "markdown",
   "metadata": {},
   "source": [
    "I'm just joined all the categories into one string \"categories\".\n",
    "See below."
   ]
  },
  {
   "cell_type": "code",
   "execution_count": 7,
   "metadata": {},
   "outputs": [
    {
     "data": {
      "text/html": [
       "<div>\n",
       "<style scoped>\n",
       "    .dataframe tbody tr th:only-of-type {\n",
       "        vertical-align: middle;\n",
       "    }\n",
       "\n",
       "    .dataframe tbody tr th {\n",
       "        vertical-align: top;\n",
       "    }\n",
       "\n",
       "    .dataframe thead th {\n",
       "        text-align: right;\n",
       "    }\n",
       "</style>\n",
       "<table border=\"1\" class=\"dataframe\">\n",
       "  <thead>\n",
       "    <tr style=\"text-align: right;\">\n",
       "      <th></th>\n",
       "      <th>uk_page_id</th>\n",
       "      <th>uk_page_title</th>\n",
       "      <th>en_page_id</th>\n",
       "      <th>categories</th>\n",
       "    </tr>\n",
       "  </thead>\n",
       "  <tbody>\n",
       "    <tr>\n",
       "      <th>0</th>\n",
       "      <td>13</td>\n",
       "      <td>Географія</td>\n",
       "      <td>18963910.0</td>\n",
       "      <td>Географія МГЕ</td>\n",
       "    </tr>\n",
       "    <tr>\n",
       "      <th>1</th>\n",
       "      <td>584</td>\n",
       "      <td>Атом</td>\n",
       "      <td>902.0</td>\n",
       "      <td>Атоми Базові_поняття_фізики Основні_поняття_хімії</td>\n",
       "    </tr>\n",
       "    <tr>\n",
       "      <th>2</th>\n",
       "      <td>585</td>\n",
       "      <td>Мільярд</td>\n",
       "      <td>1136363.0</td>\n",
       "      <td>Натуральні_числа</td>\n",
       "    </tr>\n",
       "    <tr>\n",
       "      <th>3</th>\n",
       "      <td>586</td>\n",
       "      <td>Ядро</td>\n",
       "      <td>NaN</td>\n",
       "      <td>Багатозначні_терміни Всі_сторінки_неоднозначності Всі_сторінки_неоднозначності_статей</td>\n",
       "    </tr>\n",
       "    <tr>\n",
       "      <th>4</th>\n",
       "      <td>587</td>\n",
       "      <td>Мільйон</td>\n",
       "      <td>1045999.0</td>\n",
       "      <td>Натуральні_числа</td>\n",
       "    </tr>\n",
       "    <tr>\n",
       "      <th>5</th>\n",
       "      <td>588</td>\n",
       "      <td>Хімія</td>\n",
       "      <td>5180.0</td>\n",
       "      <td>Природничі_науки Хімія</td>\n",
       "    </tr>\n",
       "    <tr>\n",
       "      <th>6</th>\n",
       "      <td>590</td>\n",
       "      <td>Діаметр</td>\n",
       "      <td>8007.0</td>\n",
       "      <td>Довжина Класична_геометрія Метрична_геометрія</td>\n",
       "    </tr>\n",
       "    <tr>\n",
       "      <th>7</th>\n",
       "      <td>591</td>\n",
       "      <td>Метр</td>\n",
       "      <td>18947.0</td>\n",
       "      <td>Одиниці_СІ Одиниці_довжини Фізичні_одиниці</td>\n",
       "    </tr>\n",
       "    <tr>\n",
       "      <th>8</th>\n",
       "      <td>592</td>\n",
       "      <td>Біологія</td>\n",
       "      <td>9127632.0</td>\n",
       "      <td>Біологія Природничі_науки</td>\n",
       "    </tr>\n",
       "    <tr>\n",
       "      <th>9</th>\n",
       "      <td>600</td>\n",
       "      <td>Коло</td>\n",
       "      <td>6220.0</td>\n",
       "      <td>Алгебричні_криві Кола Конічні_перетини Криві Планіметрія Стереометрія</td>\n",
       "    </tr>\n",
       "  </tbody>\n",
       "</table>\n",
       "</div>"
      ],
      "text/plain": [
       "   uk_page_id uk_page_title  en_page_id  \\\n",
       "0  13          Географія     18963910.0   \n",
       "1  584         Атом          902.0        \n",
       "2  585         Мільярд       1136363.0    \n",
       "3  586         Ядро         NaN           \n",
       "4  587         Мільйон       1045999.0    \n",
       "5  588         Хімія         5180.0       \n",
       "6  590         Діаметр       8007.0       \n",
       "7  591         Метр          18947.0      \n",
       "8  592         Біологія      9127632.0    \n",
       "9  600         Коло          6220.0       \n",
       "\n",
       "                                                                              categories  \n",
       "0  Географія МГЕ                                                                          \n",
       "1  Атоми Базові_поняття_фізики Основні_поняття_хімії                                      \n",
       "2  Натуральні_числа                                                                       \n",
       "3  Багатозначні_терміни Всі_сторінки_неоднозначності Всі_сторінки_неоднозначності_статей  \n",
       "4  Натуральні_числа                                                                       \n",
       "5  Природничі_науки Хімія                                                                 \n",
       "6  Довжина Класична_геометрія Метрична_геометрія                                          \n",
       "7  Одиниці_СІ Одиниці_довжини Фізичні_одиниці                                             \n",
       "8  Біологія Природничі_науки                                                              \n",
       "9  Алгебричні_криві Кола Конічні_перетини Криві Планіметрія Стереометрія                  "
      ]
     },
     "execution_count": 7,
     "metadata": {},
     "output_type": "execute_result"
    }
   ],
   "source": [
    "pages.head(10)"
   ]
  },
  {
   "cell_type": "code",
   "execution_count": 8,
   "metadata": {},
   "outputs": [
    {
     "data": {
      "text/plain": [
       "(849146, 4)"
      ]
     },
     "execution_count": 8,
     "metadata": {},
     "output_type": "execute_result"
    }
   ],
   "source": [
    "pages.shape"
   ]
  },
  {
   "cell_type": "markdown",
   "metadata": {},
   "source": [
    "### Pageviews data"
   ]
  },
  {
   "cell_type": "markdown",
   "metadata": {},
   "source": [
    "Pageviews for EN pages were fetched using Wikimedia REST API \n",
    "https://wikimedia.org/api/rest_v1/#/Pageviews%20data/get_metrics_pageviews_per_article__project___access___agent___article___granularity___start___end_\n",
    "The results are stored in 'pageviews.csv' file"
   ]
  },
  {
   "cell_type": "code",
   "execution_count": 9,
   "metadata": {},
   "outputs": [
    {
     "data": {
      "text/html": [
       "<div>\n",
       "<style scoped>\n",
       "    .dataframe tbody tr th:only-of-type {\n",
       "        vertical-align: middle;\n",
       "    }\n",
       "\n",
       "    .dataframe tbody tr th {\n",
       "        vertical-align: top;\n",
       "    }\n",
       "\n",
       "    .dataframe thead th {\n",
       "        text-align: right;\n",
       "    }\n",
       "</style>\n",
       "<table border=\"1\" class=\"dataframe\">\n",
       "  <thead>\n",
       "    <tr style=\"text-align: right;\">\n",
       "      <th></th>\n",
       "      <th>en_page_id</th>\n",
       "      <th>en_page_title</th>\n",
       "      <th>2018010100</th>\n",
       "      <th>2018020100</th>\n",
       "      <th>2018030100</th>\n",
       "      <th>2018040100</th>\n",
       "      <th>2018050100</th>\n",
       "      <th>2018060100</th>\n",
       "      <th>2018070100</th>\n",
       "      <th>2018080100</th>\n",
       "      <th>2018090100</th>\n",
       "      <th>2018100100</th>\n",
       "      <th>2018110100</th>\n",
       "      <th>2018120100</th>\n",
       "      <th>2019010100</th>\n",
       "      <th>2019020100</th>\n",
       "      <th>2019030100</th>\n",
       "      <th>2019040100</th>\n",
       "      <th>2019050100</th>\n",
       "      <th>2019060100</th>\n",
       "    </tr>\n",
       "  </thead>\n",
       "  <tbody>\n",
       "    <tr>\n",
       "      <th>0</th>\n",
       "      <td>15736354</td>\n",
       "      <td>Saint-Victor-de-Buthon</td>\n",
       "      <td>50</td>\n",
       "      <td>21</td>\n",
       "      <td>23</td>\n",
       "      <td>20</td>\n",
       "      <td>24</td>\n",
       "      <td>17</td>\n",
       "      <td>32</td>\n",
       "      <td>21</td>\n",
       "      <td>18</td>\n",
       "      <td>25</td>\n",
       "      <td>25</td>\n",
       "      <td>20</td>\n",
       "      <td>17</td>\n",
       "      <td>26</td>\n",
       "      <td>19</td>\n",
       "      <td>15</td>\n",
       "      <td>21</td>\n",
       "      <td>19</td>\n",
       "    </tr>\n",
       "    <tr>\n",
       "      <th>1</th>\n",
       "      <td>15736357</td>\n",
       "      <td>Sainville</td>\n",
       "      <td>76</td>\n",
       "      <td>22</td>\n",
       "      <td>41</td>\n",
       "      <td>27</td>\n",
       "      <td>28</td>\n",
       "      <td>43</td>\n",
       "      <td>52</td>\n",
       "      <td>45</td>\n",
       "      <td>40</td>\n",
       "      <td>64</td>\n",
       "      <td>23</td>\n",
       "      <td>27</td>\n",
       "      <td>47</td>\n",
       "      <td>40</td>\n",
       "      <td>27</td>\n",
       "      <td>49</td>\n",
       "      <td>34</td>\n",
       "      <td>29</td>\n",
       "    </tr>\n",
       "    <tr>\n",
       "      <th>2</th>\n",
       "      <td>15736358</td>\n",
       "      <td>Sancheville</td>\n",
       "      <td>44</td>\n",
       "      <td>20</td>\n",
       "      <td>23</td>\n",
       "      <td>14</td>\n",
       "      <td>17</td>\n",
       "      <td>21</td>\n",
       "      <td>25</td>\n",
       "      <td>23</td>\n",
       "      <td>19</td>\n",
       "      <td>21</td>\n",
       "      <td>24</td>\n",
       "      <td>24</td>\n",
       "      <td>33</td>\n",
       "      <td>23</td>\n",
       "      <td>34</td>\n",
       "      <td>34</td>\n",
       "      <td>22</td>\n",
       "      <td>17</td>\n",
       "    </tr>\n",
       "    <tr>\n",
       "      <th>3</th>\n",
       "      <td>15736360</td>\n",
       "      <td>Sandarville</td>\n",
       "      <td>42</td>\n",
       "      <td>16</td>\n",
       "      <td>20</td>\n",
       "      <td>11</td>\n",
       "      <td>19</td>\n",
       "      <td>20</td>\n",
       "      <td>10</td>\n",
       "      <td>26</td>\n",
       "      <td>26</td>\n",
       "      <td>14</td>\n",
       "      <td>9</td>\n",
       "      <td>26</td>\n",
       "      <td>17</td>\n",
       "      <td>25</td>\n",
       "      <td>11</td>\n",
       "      <td>23</td>\n",
       "      <td>18</td>\n",
       "      <td>16</td>\n",
       "    </tr>\n",
       "    <tr>\n",
       "      <th>4</th>\n",
       "      <td>15736366</td>\n",
       "      <td>Saumeray</td>\n",
       "      <td>39</td>\n",
       "      <td>13</td>\n",
       "      <td>14</td>\n",
       "      <td>19</td>\n",
       "      <td>12</td>\n",
       "      <td>16</td>\n",
       "      <td>16</td>\n",
       "      <td>15</td>\n",
       "      <td>20</td>\n",
       "      <td>24</td>\n",
       "      <td>11</td>\n",
       "      <td>27</td>\n",
       "      <td>34</td>\n",
       "      <td>23</td>\n",
       "      <td>18</td>\n",
       "      <td>22</td>\n",
       "      <td>13</td>\n",
       "      <td>17</td>\n",
       "    </tr>\n",
       "  </tbody>\n",
       "</table>\n",
       "</div>"
      ],
      "text/plain": [
       "   en_page_id           en_page_title  2018010100  2018020100  2018030100  \\\n",
       "0  15736354    Saint-Victor-de-Buthon  50          21          23           \n",
       "1  15736357    Sainville               76          22          41           \n",
       "2  15736358    Sancheville             44          20          23           \n",
       "3  15736360    Sandarville             42          16          20           \n",
       "4  15736366    Saumeray                39          13          14           \n",
       "\n",
       "   2018040100  2018050100  2018060100  2018070100  2018080100  2018090100  \\\n",
       "0  20          24          17          32          21          18           \n",
       "1  27          28          43          52          45          40           \n",
       "2  14          17          21          25          23          19           \n",
       "3  11          19          20          10          26          26           \n",
       "4  19          12          16          16          15          20           \n",
       "\n",
       "   2018100100  2018110100  2018120100  2019010100  2019020100  2019030100  \\\n",
       "0  25          25          20          17          26          19           \n",
       "1  64          23          27          47          40          27           \n",
       "2  21          24          24          33          23          34           \n",
       "3  14          9           26          17          25          11           \n",
       "4  24          11          27          34          23          18           \n",
       "\n",
       "   2019040100  2019050100  2019060100  \n",
       "0  15          21          19          \n",
       "1  49          34          29          \n",
       "2  34          22          17          \n",
       "3  23          18          16          \n",
       "4  22          13          17          "
      ]
     },
     "execution_count": 9,
     "metadata": {},
     "output_type": "execute_result"
    }
   ],
   "source": [
    "zip_file = zipfile.ZipFile('pageviews.csv.zip')\n",
    "pageviews = pd.read_csv(zip_file.open('pageviews.csv'))\n",
    "pageviews.head()"
   ]
  },
  {
   "cell_type": "code",
   "execution_count": 10,
   "metadata": {},
   "outputs": [
    {
     "data": {
      "text/html": [
       "<div>\n",
       "<style scoped>\n",
       "    .dataframe tbody tr th:only-of-type {\n",
       "        vertical-align: middle;\n",
       "    }\n",
       "\n",
       "    .dataframe tbody tr th {\n",
       "        vertical-align: top;\n",
       "    }\n",
       "\n",
       "    .dataframe thead th {\n",
       "        text-align: right;\n",
       "    }\n",
       "</style>\n",
       "<table border=\"1\" class=\"dataframe\">\n",
       "  <thead>\n",
       "    <tr style=\"text-align: right;\">\n",
       "      <th></th>\n",
       "      <th>en_page_id</th>\n",
       "      <th>views_in_2018</th>\n",
       "      <th>views_in_2019</th>\n",
       "      <th>log_views_in_2018</th>\n",
       "      <th>log_views_in_2019</th>\n",
       "    </tr>\n",
       "  </thead>\n",
       "  <tbody>\n",
       "    <tr>\n",
       "      <th>0</th>\n",
       "      <td>15736354</td>\n",
       "      <td>141</td>\n",
       "      <td>117</td>\n",
       "      <td>2.152288</td>\n",
       "      <td>2.071882</td>\n",
       "    </tr>\n",
       "    <tr>\n",
       "      <th>1</th>\n",
       "      <td>15736357</td>\n",
       "      <td>251</td>\n",
       "      <td>226</td>\n",
       "      <td>2.401401</td>\n",
       "      <td>2.356026</td>\n",
       "    </tr>\n",
       "    <tr>\n",
       "      <th>2</th>\n",
       "      <td>15736358</td>\n",
       "      <td>136</td>\n",
       "      <td>163</td>\n",
       "      <td>2.136721</td>\n",
       "      <td>2.214844</td>\n",
       "    </tr>\n",
       "    <tr>\n",
       "      <th>3</th>\n",
       "      <td>15736360</td>\n",
       "      <td>111</td>\n",
       "      <td>110</td>\n",
       "      <td>2.049218</td>\n",
       "      <td>2.045323</td>\n",
       "    </tr>\n",
       "    <tr>\n",
       "      <th>4</th>\n",
       "      <td>15736366</td>\n",
       "      <td>113</td>\n",
       "      <td>127</td>\n",
       "      <td>2.056905</td>\n",
       "      <td>2.107210</td>\n",
       "    </tr>\n",
       "  </tbody>\n",
       "</table>\n",
       "</div>"
      ],
      "text/plain": [
       "   en_page_id  views_in_2018  views_in_2019  log_views_in_2018  \\\n",
       "0  15736354    141            117            2.152288            \n",
       "1  15736357    251            226            2.401401            \n",
       "2  15736358    136            163            2.136721            \n",
       "3  15736360    111            110            2.049218            \n",
       "4  15736366    113            127            2.056905            \n",
       "\n",
       "   log_views_in_2019  \n",
       "0  2.071882           \n",
       "1  2.356026           \n",
       "2  2.214844           \n",
       "3  2.045323           \n",
       "4  2.107210           "
      ]
     },
     "execution_count": 10,
     "metadata": {},
     "output_type": "execute_result"
    }
   ],
   "source": [
    "pageviews['views_in_2018'] = pageviews['2018070100'] + pageviews['2018080100'] + pageviews['2018090100'] + pageviews['2018100100'] + pageviews['2018110100'] + pageviews['2018120100']\n",
    "pageviews['views_in_2019'] = pageviews['2019010100'] + pageviews['2019020100'] + pageviews['2019030100'] + pageviews['2019040100'] + pageviews['2019050100'] + pageviews['2019060100']\n",
    "pageviews['log_views_in_2018'] = np.log(pageviews['views_in_2018']+1) / np.log(10)\n",
    "pageviews['log_views_in_2019'] = np.log(pageviews['views_in_2019']+1) / np.log(10)\n",
    "pageviews2018 = pageviews[['en_page_id', 'views_in_2018', 'views_in_2019', 'log_views_in_2018', 'log_views_in_2019']]\n",
    "pageviews2018.head()"
   ]
  },
  {
   "cell_type": "code",
   "execution_count": 11,
   "metadata": {},
   "outputs": [
    {
     "data": {
      "text/plain": [
       "(29581.734261815483, 750.0, 30204976)"
      ]
     },
     "execution_count": 11,
     "metadata": {},
     "output_type": "execute_result"
    }
   ],
   "source": [
    "pageviews['views_in_2018'].mean(), pageviews['views_in_2018'].median(), pageviews['views_in_2018'].max()"
   ]
  },
  {
   "cell_type": "code",
   "execution_count": 12,
   "metadata": {},
   "outputs": [
    {
     "data": {
      "text/plain": [
       "<matplotlib.axes._subplots.AxesSubplot at 0x144309748>"
      ]
     },
     "execution_count": 12,
     "metadata": {},
     "output_type": "execute_result"
    },
    {
     "data": {
      "image/png": "[encoded data removed]",
      "text/plain": [
       "<Figure size 432x288 with 1 Axes>"
      ]
     },
     "metadata": {
      "needs_background": "light"
     },
     "output_type": "display_data"
    }
   ],
   "source": [
    "pageviews['views_in_2018'].hist()"
   ]
  },
  {
   "cell_type": "markdown",
   "metadata": {},
   "source": [
    "#### There distribution of pageviews is \"long-tail\". It is much better to consider logarithm of pageviews."
   ]
  },
  {
   "cell_type": "code",
   "execution_count": 13,
   "metadata": {},
   "outputs": [
    {
     "data": {
      "text/plain": [
       "<matplotlib.axes._subplots.AxesSubplot at 0x10aae7940>"
      ]
     },
     "execution_count": 13,
     "metadata": {},
     "output_type": "execute_result"
    },
    {
     "data": {
      "image/png": "[encoded data removed]",
      "text/plain": [
       "<Figure size 432x288 with 1 Axes>"
      ]
     },
     "metadata": {
      "needs_background": "light"
     },
     "output_type": "display_data"
    }
   ],
   "source": [
    "pageviews['log_views_in_2018'].hist()"
   ]
  },
  {
   "cell_type": "markdown",
   "metadata": {},
   "source": [
    "'log_views_in_2018' has views for 6 last months of 2018. This data will be used for training ML model.\n",
    "\n",
    "'log_views_in_2019' - first 6 month in 2019. These data will be used for validation of ML model"
   ]
  },
  {
   "cell_type": "markdown",
   "metadata": {},
   "source": [
    "Join with \"pages\"."
   ]
  },
  {
   "cell_type": "code",
   "execution_count": 14,
   "metadata": {},
   "outputs": [
    {
     "data": {
      "text/html": [
       "<div>\n",
       "<style scoped>\n",
       "    .dataframe tbody tr th:only-of-type {\n",
       "        vertical-align: middle;\n",
       "    }\n",
       "\n",
       "    .dataframe tbody tr th {\n",
       "        vertical-align: top;\n",
       "    }\n",
       "\n",
       "    .dataframe thead th {\n",
       "        text-align: right;\n",
       "    }\n",
       "</style>\n",
       "<table border=\"1\" class=\"dataframe\">\n",
       "  <thead>\n",
       "    <tr style=\"text-align: right;\">\n",
       "      <th></th>\n",
       "      <th>uk_page_id</th>\n",
       "      <th>uk_page_title</th>\n",
       "      <th>en_page_id</th>\n",
       "      <th>categories</th>\n",
       "      <th>views_in_2018</th>\n",
       "      <th>views_in_2019</th>\n",
       "      <th>log_views_in_2018</th>\n",
       "      <th>log_views_in_2019</th>\n",
       "    </tr>\n",
       "  </thead>\n",
       "  <tbody>\n",
       "    <tr>\n",
       "      <th>0</th>\n",
       "      <td>13</td>\n",
       "      <td>Географія</td>\n",
       "      <td>18963910.0</td>\n",
       "      <td>Географія МГЕ</td>\n",
       "      <td>409834.0</td>\n",
       "      <td>334405.0</td>\n",
       "      <td>5.612609</td>\n",
       "      <td>5.524274</td>\n",
       "    </tr>\n",
       "    <tr>\n",
       "      <th>1</th>\n",
       "      <td>584</td>\n",
       "      <td>Атом</td>\n",
       "      <td>902.0</td>\n",
       "      <td>Атоми Базові_поняття_фізики Основні_поняття_хімії</td>\n",
       "      <td>560559.0</td>\n",
       "      <td>440644.0</td>\n",
       "      <td>5.748622</td>\n",
       "      <td>5.644089</td>\n",
       "    </tr>\n",
       "    <tr>\n",
       "      <th>2</th>\n",
       "      <td>585</td>\n",
       "      <td>Мільярд</td>\n",
       "      <td>1136363.0</td>\n",
       "      <td>Натуральні_числа</td>\n",
       "      <td>454472.0</td>\n",
       "      <td>423483.0</td>\n",
       "      <td>5.657508</td>\n",
       "      <td>5.626837</td>\n",
       "    </tr>\n",
       "    <tr>\n",
       "      <th>3</th>\n",
       "      <td>586</td>\n",
       "      <td>Ядро</td>\n",
       "      <td>NaN</td>\n",
       "      <td>Багатозначні_терміни Всі_сторінки_неоднозначності Всі_сторінки_неоднозначності_статей</td>\n",
       "      <td>NaN</td>\n",
       "      <td>NaN</td>\n",
       "      <td>NaN</td>\n",
       "      <td>NaN</td>\n",
       "    </tr>\n",
       "    <tr>\n",
       "      <th>4</th>\n",
       "      <td>587</td>\n",
       "      <td>Мільйон</td>\n",
       "      <td>1045999.0</td>\n",
       "      <td>Натуральні_числа</td>\n",
       "      <td>NaN</td>\n",
       "      <td>NaN</td>\n",
       "      <td>NaN</td>\n",
       "      <td>NaN</td>\n",
       "    </tr>\n",
       "  </tbody>\n",
       "</table>\n",
       "</div>"
      ],
      "text/plain": [
       "   uk_page_id uk_page_title  en_page_id  \\\n",
       "0  13          Географія     18963910.0   \n",
       "1  584         Атом          902.0        \n",
       "2  585         Мільярд       1136363.0    \n",
       "3  586         Ядро         NaN           \n",
       "4  587         Мільйон       1045999.0    \n",
       "\n",
       "                                                                              categories  \\\n",
       "0  Географія МГЕ                                                                           \n",
       "1  Атоми Базові_поняття_фізики Основні_поняття_хімії                                       \n",
       "2  Натуральні_числа                                                                        \n",
       "3  Багатозначні_терміни Всі_сторінки_неоднозначності Всі_сторінки_неоднозначності_статей   \n",
       "4  Натуральні_числа                                                                        \n",
       "\n",
       "   views_in_2018  views_in_2019  log_views_in_2018  log_views_in_2019  \n",
       "0  409834.0       334405.0       5.612609           5.524274           \n",
       "1  560559.0       440644.0       5.748622           5.644089           \n",
       "2  454472.0       423483.0       5.657508           5.626837           \n",
       "3 NaN            NaN            NaN                NaN                 \n",
       "4 NaN            NaN            NaN                NaN                 "
      ]
     },
     "execution_count": 14,
     "metadata": {},
     "output_type": "execute_result"
    }
   ],
   "source": [
    "pages = pd.merge(pages, pageviews2018, on='en_page_id', how='left')\n",
    "pages.head()"
   ]
  },
  {
   "cell_type": "markdown",
   "metadata": {},
   "source": [
    "# Word2Vec"
   ]
  },
  {
   "cell_type": "markdown",
   "metadata": {},
   "source": [
    "We've pretrained word2vec model from http://lang.org.ua/en/models/\n",
    "There is 'ubercorpus.lowercased.lemmatized.word2vec.300d.bz2' file"
   ]
  },
  {
   "cell_type": "code",
   "execution_count": 15,
   "metadata": {},
   "outputs": [
    {
     "name": "stderr",
     "output_type": "stream",
     "text": [
      "/anaconda3/lib/python3.7/site-packages/requests/__init__.py:91: RequestsDependencyWarning: urllib3 (1.25.3) or chardet (3.0.4) doesn't match a supported version!\n",
      "  RequestsDependencyWarning)\n"
     ]
    }
   ],
   "source": [
    "import numpy as np\n",
    "from gensim.parsing.preprocessing import preprocess_string, strip_tags, strip_multiple_whitespaces, remove_stopwords, stem_text\n",
    "from gensim.models import Word2Vec, KeyedVectors\n",
    "import pymorphy2\n",
    "import tokenize_uk\n",
    "import gensim\n",
    "morph = pymorphy2.MorphAnalyzer(lang='uk')"
   ]
  },
  {
   "cell_type": "code",
   "execution_count": 16,
   "metadata": {},
   "outputs": [],
   "source": [
    "w2v_model = KeyedVectors.load_word2vec_format('ubercorpus.lowercased.lemmatized.word2vec.300d.bz2')\n",
    "w2v_model.init_sims(replace=True)"
   ]
  },
  {
   "cell_type": "markdown",
   "metadata": {},
   "source": [
    "### Tokenize categories "
   ]
  },
  {
   "cell_type": "code",
   "execution_count": 17,
   "metadata": {},
   "outputs": [],
   "source": [
    "cache = {}\n",
    "def tokenize_categories(row):\n",
    "    title = row['categories']\n",
    "    title = title.replace('_', \" \")\n",
    "    if title in cache:\n",
    "        return cache[title]\n",
    "    else:\n",
    "        tokenized = [morph.parse(t)[0].normal_form for t in tokenize_uk.tokenize_words(title)]\n",
    "        cache[title] = tokenized\n",
    "        return tokenized"
   ]
  },
  {
   "cell_type": "code",
   "execution_count": 18,
   "metadata": {},
   "outputs": [],
   "source": [
    "pages['categories'] = pages.apply(tokenize_categories, axis=1)"
   ]
  },
  {
   "cell_type": "code",
   "execution_count": 19,
   "metadata": {
    "scrolled": true
   },
   "outputs": [
    {
     "data": {
      "text/html": [
       "<div>\n",
       "<style scoped>\n",
       "    .dataframe tbody tr th:only-of-type {\n",
       "        vertical-align: middle;\n",
       "    }\n",
       "\n",
       "    .dataframe tbody tr th {\n",
       "        vertical-align: top;\n",
       "    }\n",
       "\n",
       "    .dataframe thead th {\n",
       "        text-align: right;\n",
       "    }\n",
       "</style>\n",
       "<table border=\"1\" class=\"dataframe\">\n",
       "  <thead>\n",
       "    <tr style=\"text-align: right;\">\n",
       "      <th></th>\n",
       "      <th>uk_page_id</th>\n",
       "      <th>uk_page_title</th>\n",
       "      <th>en_page_id</th>\n",
       "      <th>categories</th>\n",
       "      <th>views_in_2018</th>\n",
       "      <th>views_in_2019</th>\n",
       "      <th>log_views_in_2018</th>\n",
       "      <th>log_views_in_2019</th>\n",
       "    </tr>\n",
       "  </thead>\n",
       "  <tbody>\n",
       "    <tr>\n",
       "      <th>0</th>\n",
       "      <td>13</td>\n",
       "      <td>Географія</td>\n",
       "      <td>18963910.0</td>\n",
       "      <td>[географія, мге]</td>\n",
       "      <td>409834.0</td>\n",
       "      <td>334405.0</td>\n",
       "      <td>5.612609</td>\n",
       "      <td>5.524274</td>\n",
       "    </tr>\n",
       "    <tr>\n",
       "      <th>1</th>\n",
       "      <td>584</td>\n",
       "      <td>Атом</td>\n",
       "      <td>902.0</td>\n",
       "      <td>[атом, базовий, поняття, фізик, основний, поняття, хімія]</td>\n",
       "      <td>560559.0</td>\n",
       "      <td>440644.0</td>\n",
       "      <td>5.748622</td>\n",
       "      <td>5.644089</td>\n",
       "    </tr>\n",
       "    <tr>\n",
       "      <th>2</th>\n",
       "      <td>585</td>\n",
       "      <td>Мільярд</td>\n",
       "      <td>1136363.0</td>\n",
       "      <td>[натуральний, число]</td>\n",
       "      <td>454472.0</td>\n",
       "      <td>423483.0</td>\n",
       "      <td>5.657508</td>\n",
       "      <td>5.626837</td>\n",
       "    </tr>\n",
       "    <tr>\n",
       "      <th>3</th>\n",
       "      <td>586</td>\n",
       "      <td>Ядро</td>\n",
       "      <td>NaN</td>\n",
       "      <td>[багатозначний, термін, весь, сторінка, неоднозначність, весь, сторінка, неоднозначність, стать]</td>\n",
       "      <td>NaN</td>\n",
       "      <td>NaN</td>\n",
       "      <td>NaN</td>\n",
       "      <td>NaN</td>\n",
       "    </tr>\n",
       "    <tr>\n",
       "      <th>4</th>\n",
       "      <td>587</td>\n",
       "      <td>Мільйон</td>\n",
       "      <td>1045999.0</td>\n",
       "      <td>[натуральний, число]</td>\n",
       "      <td>NaN</td>\n",
       "      <td>NaN</td>\n",
       "      <td>NaN</td>\n",
       "      <td>NaN</td>\n",
       "    </tr>\n",
       "  </tbody>\n",
       "</table>\n",
       "</div>"
      ],
      "text/plain": [
       "   uk_page_id uk_page_title  en_page_id  \\\n",
       "0  13          Географія     18963910.0   \n",
       "1  584         Атом          902.0        \n",
       "2  585         Мільярд       1136363.0    \n",
       "3  586         Ядро         NaN           \n",
       "4  587         Мільйон       1045999.0    \n",
       "\n",
       "                                                                                         categories  \\\n",
       "0  [географія, мге]                                                                                   \n",
       "1  [атом, базовий, поняття, фізик, основний, поняття, хімія]                                          \n",
       "2  [натуральний, число]                                                                               \n",
       "3  [багатозначний, термін, весь, сторінка, неоднозначність, весь, сторінка, неоднозначність, стать]   \n",
       "4  [натуральний, число]                                                                               \n",
       "\n",
       "   views_in_2018  views_in_2019  log_views_in_2018  log_views_in_2019  \n",
       "0  409834.0       334405.0       5.612609           5.524274           \n",
       "1  560559.0       440644.0       5.748622           5.644089           \n",
       "2  454472.0       423483.0       5.657508           5.626837           \n",
       "3 NaN            NaN            NaN                NaN                 \n",
       "4 NaN            NaN            NaN                NaN                 "
      ]
     },
     "execution_count": 19,
     "metadata": {},
     "output_type": "execute_result"
    }
   ],
   "source": [
    "pages.head()"
   ]
  },
  {
   "cell_type": "markdown",
   "metadata": {},
   "source": [
    "## Models"
   ]
  },
  {
   "cell_type": "markdown",
   "metadata": {},
   "source": [
    "Let's repeat it again. We are building a ML model which will predict pageviews (log of pageviews, actually) based on word2vec vector for categories.\n",
    "\n",
    "We are trying 4 approaches for building vector representation for categories:\n",
    "\n",
    "1. Average vector of all words that are in categories.\n",
    "2. Weighted vector (based on IDF score) of all words that are in categories\n",
    "3. Average vector of all catefories' words + UA page title\n",
    "4. Weighted vector of all catefories' words + UA page title"
   ]
  },
  {
   "cell_type": "markdown",
   "metadata": {},
   "source": [
    "### Evaluation"
   ]
  },
  {
   "cell_type": "markdown",
   "metadata": {},
   "source": [
    "As mentioned above we train model based on 'log_views_in_2018' data (last 6 month of 2018) and check the prediciton performance using 'log_views_in_2019' data (first 6 month of 2019).\n",
    "\n",
    "The measure of performance is MRSE for 'log_views_in_2019'."
   ]
  },
  {
   "cell_type": "code",
   "execution_count": 20,
   "metadata": {},
   "outputs": [],
   "source": [
    "def evaluate(reg_model, vectors_column):\n",
    "    pc = pages.copy()\n",
    "    X_test = np.array(list(map(lambda x: x.tolist(), pc[vectors_column])))\n",
    "    y_pred = reg_model.predict(X_test)\n",
    "\n",
    "    pc['2019_pred'] = y_pred\n",
    "    final_test = pc[['log_views_in_2019', '2019_pred']]\n",
    "    final_test = final_test[final_test['log_views_in_2019'].notnull()]\n",
    "\n",
    "    \n",
    "    print(\"MRSE: \" + str(np.sqrt(mean_squared_error(final_test['log_views_in_2019'], final_test['2019_pred']))))\n",
    "\n",
    "    plt.scatter(final_test['log_views_in_2019'], final_test['2019_pred'], alpha=0.01)\n",
    "    plt.plot([1,7], [1,7], color='black');\n",
    "    plt.xlim(1, 7)\n",
    "    plt.ylim(1, 7)\n",
    "    _=plt.show()"
   ]
  },
  {
   "cell_type": "markdown",
   "metadata": {},
   "source": [
    "#### 1. Average vector of all words that are in categories."
   ]
  },
  {
   "cell_type": "code",
   "execution_count": 21,
   "metadata": {},
   "outputs": [],
   "source": [
    "def w2v(word):\n",
    "    try:\n",
    "        return w2v_model[word]\n",
    "    except:\n",
    "        return np.zeros(300)\n",
    "        \n",
    "    \n",
    "def average_w3v(row):\n",
    "    words = row['categories']\n",
    "    s =  np.zeros(300)\n",
    "    for word in words:\n",
    "        s = np.add(s, w2v(word))\n",
    "    return s    "
   ]
  },
  {
   "cell_type": "code",
   "execution_count": 22,
   "metadata": {},
   "outputs": [],
   "source": [
    "pages['avg_cat_vector'] = pages.apply(average_w3v, axis=1)"
   ]
  },
  {
   "cell_type": "code",
   "execution_count": 23,
   "metadata": {},
   "outputs": [],
   "source": [
    "from sklearn.ensemble import RandomForestRegressor\n",
    "from sklearn.metrics import mean_squared_error"
   ]
  },
  {
   "cell_type": "code",
   "execution_count": 24,
   "metadata": {},
   "outputs": [
    {
     "name": "stdout",
     "output_type": "stream",
     "text": [
      "(121355, 300) (121355,)\n",
      "MRSE: 0.39255121175461277\n"
     ]
    },
    {
     "data": {
      "image/png": "[encoded data removed]",
      "text/plain": [
       "<Figure size 432x288 with 1 Axes>"
      ]
     },
     "metadata": {
      "needs_background": "light"
     },
     "output_type": "display_data"
    }
   ],
   "source": [
    "pc = pages.copy()\n",
    "pc = pc[pc['log_views_in_2018'].notnull()]\n",
    "y = pc['log_views_in_2018']\n",
    "X = np.array(list(map(lambda x: x.tolist(), pc['avg_cat_vector'])))\n",
    "print(X.shape, y.shape)\n",
    "regr = RandomForestRegressor(random_state=42, n_estimators=50, n_jobs=-1)\n",
    "regr.fit(X, y)\n",
    "evaluate(regr, 'avg_cat_vector')"
   ]
  },
  {
   "cell_type": "markdown",
   "metadata": {},
   "source": []
  },
  {
   "cell_type": "markdown",
   "metadata": {},
   "source": [
    "#### 2. Weighted vector (based on IDF score) of all words that are in categories"
   ]
  },
  {
   "cell_type": "code",
   "execution_count": 25,
   "metadata": {},
   "outputs": [],
   "source": [
    "def calculate_idf_scores():\n",
    "    all_words = {}\n",
    "    for i, row in pages.iterrows():\n",
    "        for word in row['categories']:\n",
    "            if word in all_words:\n",
    "                all_words[word] += 1\n",
    "            else:\n",
    "                all_words[word] = 1\n",
    "    idf_scores = {}\n",
    "    s = float(pages.shape[0])\n",
    "    for word in all_words:\n",
    "        idf_scores[word] = np.log(s/all_words[word])            \n",
    "    return idf_scores  "
   ]
  },
  {
   "cell_type": "code",
   "execution_count": 26,
   "metadata": {},
   "outputs": [],
   "source": [
    "idf_scores = calculate_idf_scores()"
   ]
  },
  {
   "cell_type": "code",
   "execution_count": 27,
   "metadata": {},
   "outputs": [],
   "source": [
    "def weigthed_w3v(row):\n",
    "    words = row['categories']\n",
    "    s =  np.zeros(300)\n",
    "    s_idf = 0\n",
    "    for word in words:\n",
    "        idf = idf_scores[word]\n",
    "        s_idf += idf\n",
    "        s = np.add(s, w2v(word) * idf)\n",
    "    return s / s_idf"
   ]
  },
  {
   "cell_type": "code",
   "execution_count": 28,
   "metadata": {},
   "outputs": [],
   "source": [
    "pages['weighted_cat_vector'] = pages.apply(weigthed_w3v, axis=1)"
   ]
  },
  {
   "cell_type": "code",
   "execution_count": 29,
   "metadata": {},
   "outputs": [
    {
     "name": "stdout",
     "output_type": "stream",
     "text": [
      "(121355, 300) (121355,)\n",
      "MRSE: 0.38490519203755297\n"
     ]
    },
    {
     "data": {
      "image/png": "[encoded data removed]",
      "text/plain": [
       "<Figure size 432x288 with 1 Axes>"
      ]
     },
     "metadata": {
      "needs_background": "light"
     },
     "output_type": "display_data"
    }
   ],
   "source": [
    "pc = pages.copy()\n",
    "pc = pc[pc['log_views_in_2018'].notnull()]\n",
    "y = pc['log_views_in_2018']\n",
    "X = np.array(list(map(lambda x: x.tolist(), pc['weighted_cat_vector'])))\n",
    "print(X.shape, y.shape)\n",
    "regr = RandomForestRegressor(random_state=42, n_estimators=50, n_jobs=-1)\n",
    "regr.fit(X, y)\n",
    "evaluate(regr, 'weighted_cat_vector')"
   ]
  },
  {
   "cell_type": "markdown",
   "metadata": {},
   "source": [
    "#### 3. Average vector of all catefories' words + UA page title"
   ]
  },
  {
   "cell_type": "code",
   "execution_count": 30,
   "metadata": {},
   "outputs": [],
   "source": [
    "pages['categories'] = pages.apply(lambda row: row['categories'] + tokenize_categories({'categories': row['uk_page_title']}), axis=1)"
   ]
  },
  {
   "cell_type": "code",
   "execution_count": 31,
   "metadata": {},
   "outputs": [],
   "source": [
    "pages['avg_cat_vector'] = pages.apply(average_w3v, axis=1)"
   ]
  },
  {
   "cell_type": "code",
   "execution_count": 32,
   "metadata": {},
   "outputs": [
    {
     "name": "stdout",
     "output_type": "stream",
     "text": [
      "(121355, 300) (121355,)\n",
      "MRSE: 0.33382772502099817\n"
     ]
    },
    {
     "data": {
      "image/png": "[encoded data removed]",
      "text/plain": [
       "<Figure size 432x288 with 1 Axes>"
      ]
     },
     "metadata": {
      "needs_background": "light"
     },
     "output_type": "display_data"
    }
   ],
   "source": [
    "pc = pages.copy()\n",
    "pc = pc[pc['log_views_in_2018'].notnull()]\n",
    "y = pc['log_views_in_2018']\n",
    "X = np.array(list(map(lambda x: x.tolist(), pc['avg_cat_vector'])))\n",
    "print(X.shape, y.shape)\n",
    "regr = RandomForestRegressor(random_state=42, n_estimators=50, n_jobs=-1)\n",
    "regr.fit(X, y)\n",
    "evaluate(regr, 'avg_cat_vector')"
   ]
  },
  {
   "cell_type": "markdown",
   "metadata": {},
   "source": [
    "#### 4. Weighted vector of all catefories' words + UA page title"
   ]
  },
  {
   "cell_type": "code",
   "execution_count": 33,
   "metadata": {},
   "outputs": [],
   "source": [
    "idf_scores = calculate_idf_scores()"
   ]
  },
  {
   "cell_type": "code",
   "execution_count": 34,
   "metadata": {},
   "outputs": [],
   "source": [
    "pages['weighted_cat_vector'] = pages.apply(weigthed_w3v, axis=1)"
   ]
  },
  {
   "cell_type": "code",
   "execution_count": 35,
   "metadata": {},
   "outputs": [
    {
     "name": "stdout",
     "output_type": "stream",
     "text": [
      "(121355, 300) (121355,)\n",
      "MRSE: 0.31887809096037684\n"
     ]
    },
    {
     "data": {
      "image/png": "[encoded data removed]",
      "text/plain": [
       "<Figure size 432x288 with 1 Axes>"
      ]
     },
     "metadata": {
      "needs_background": "light"
     },
     "output_type": "display_data"
    }
   ],
   "source": [
    "pc = pages.copy()\n",
    "pc = pc[pc['log_views_in_2018'].notnull()]\n",
    "y = pc['log_views_in_2018']\n",
    "X = np.array(list(map(lambda x: x.tolist(), pc['weighted_cat_vector'])))\n",
    "print(X.shape, y.shape)\n",
    "regr = RandomForestRegressor(random_state=42, n_estimators=50, n_jobs=-1)\n",
    "regr.fit(X, y)\n",
    "evaluate(regr, 'weighted_cat_vector')"
   ]
  },
  {
   "cell_type": "markdown",
   "metadata": {},
   "source": [
    "### ML model summary\n",
    "| Features    | RMSE |\n",
    "| --------------------------------------- | ----- |\n",
    "| AVG(categories words)                   | 0.39  |\n",
    "| WEIGHTED(categories words)              | 0.38  |\n",
    "| AVG(categories words + page title)      | 0.33  |\n",
    "| WEIGHTED(categories words + page title) | 0.32  |"
   ]
  },
  {
   "cell_type": "markdown",
   "metadata": {},
   "source": [
    "## UA page ranking"
   ]
  },
  {
   "cell_type": "code",
   "execution_count": 36,
   "metadata": {},
   "outputs": [],
   "source": [
    "X_test = np.array(list(map(lambda x: x.tolist(), pages['weighted_cat_vector'])))\n",
    "y_pred = regr.predict(X_test)\n",
    "pages['2019_pred'] = y_pred"
   ]
  },
  {
   "cell_type": "code",
   "execution_count": 38,
   "metadata": {},
   "outputs": [],
   "source": [
    "pages_with_ranks = pages[pages['en_page_id'].isnull()][['uk_page_id', 'uk_page_title', 'categories', 'weighted_cat_vector', '2019_pred',]]\n",
    "pages_with_ranks = pages_with_ranks.sort_values('2019_pred', axis=0, ascending=False)\n",
    "#pages_with_ranks.head()"
   ]
  },
  {
   "cell_type": "markdown",
   "metadata": {},
   "source": [
    "### Enter your query here"
   ]
  },
  {
   "cell_type": "code",
   "execution_count": 39,
   "metadata": {},
   "outputs": [],
   "source": [
    "query = 'Наука про дані'  # Data Science\n",
    "query = 'Добування даних' # Data Mining"
   ]
  },
  {
   "cell_type": "code",
   "execution_count": 40,
   "metadata": {},
   "outputs": [
    {
     "name": "stdout",
     "output_type": "stream",
     "text": [
      "['добування', 'даний']\n"
     ]
    }
   ],
   "source": [
    "words = tokenize_categories({'categories': query})\n",
    "print(words)\n",
    "words_vector = average_w3v({'categories': words})"
   ]
  },
  {
   "cell_type": "markdown",
   "metadata": {},
   "source": [
    "### Calculating similarity for each page"
   ]
  },
  {
   "cell_type": "markdown",
   "metadata": {},
   "source": [
    "It takes time. See LSH implementation below"
   ]
  },
  {
   "cell_type": "code",
   "execution_count": 41,
   "metadata": {},
   "outputs": [],
   "source": [
    "def similarity(row):\n",
    "    v = row['weighted_cat_vector']\n",
    "    return np.dot(v, words_vector) / (np.linalg.norm(v) * np.linalg.norm(words_vector))"
   ]
  },
  {
   "cell_type": "code",
   "execution_count": 42,
   "metadata": {},
   "outputs": [
    {
     "name": "stderr",
     "output_type": "stream",
     "text": [
      "/anaconda3/lib/python3.7/site-packages/ipykernel_launcher.py:3: RuntimeWarning: invalid value encountered in double_scalars\n",
      "  This is separate from the ipykernel package so we can avoid doing imports until\n"
     ]
    }
   ],
   "source": [
    "pages_with_ranks['sim'] = pages_with_ranks.apply(similarity, axis=1)"
   ]
  },
  {
   "cell_type": "code",
   "execution_count": 43,
   "metadata": {},
   "outputs": [
    {
     "data": {
      "text/html": [
       "<div>\n",
       "<style scoped>\n",
       "    .dataframe tbody tr th:only-of-type {\n",
       "        vertical-align: middle;\n",
       "    }\n",
       "\n",
       "    .dataframe tbody tr th {\n",
       "        vertical-align: top;\n",
       "    }\n",
       "\n",
       "    .dataframe thead th {\n",
       "        text-align: right;\n",
       "    }\n",
       "</style>\n",
       "<table border=\"1\" class=\"dataframe\">\n",
       "  <thead>\n",
       "    <tr style=\"text-align: right;\">\n",
       "      <th></th>\n",
       "      <th>uk_page_title</th>\n",
       "      <th>categories</th>\n",
       "      <th>sim</th>\n",
       "    </tr>\n",
       "  </thead>\n",
       "  <tbody>\n",
       "    <tr>\n",
       "      <th>686491</th>\n",
       "      <td>Добування_даних</td>\n",
       "      <td>[глибинний, аналіз, даний, зберігання, та, аналіз, корпоративний, даний, статистик, формальний, наука, добування, даний]</td>\n",
       "      <td>0.744226</td>\n",
       "    </tr>\n",
       "    <tr>\n",
       "      <th>605734</th>\n",
       "      <td>Перечередування_даних</td>\n",
       "      <td>[даний, перечередування, даний]</td>\n",
       "      <td>0.733199</td>\n",
       "    </tr>\n",
       "    <tr>\n",
       "      <th>152199</th>\n",
       "      <td>Синхронізація_даних</td>\n",
       "      <td>[база, даний, зберігання, даний, синхронізація, даний]</td>\n",
       "      <td>0.724777</td>\n",
       "    </tr>\n",
       "    <tr>\n",
       "      <th>70439</th>\n",
       "      <td>Редагування_даних</td>\n",
       "      <td>[даний, обробка, інформація, редагування, даний]</td>\n",
       "      <td>0.681728</td>\n",
       "    </tr>\n",
       "    <tr>\n",
       "      <th>202383</th>\n",
       "      <td>Сховище_даних</td>\n",
       "      <td>[база, даний, зберігання, та, аналіз, корпоративний, даний, сховище, даний]</td>\n",
       "      <td>0.679140</td>\n",
       "    </tr>\n",
       "    <tr>\n",
       "      <th>201829</th>\n",
       "      <td>Групування_даних</td>\n",
       "      <td>[аналіз, даний, групування, даний]</td>\n",
       "      <td>0.678008</td>\n",
       "    </tr>\n",
       "    <tr>\n",
       "      <th>553893</th>\n",
       "      <td>Система_обробки_даних</td>\n",
       "      <td>[даний, кібернетик, обробка, інформація, система, обробка, даний]</td>\n",
       "      <td>0.672028</td>\n",
       "    </tr>\n",
       "    <tr>\n",
       "      <th>352904</th>\n",
       "      <td>DRBD</td>\n",
       "      <td>[зберігання, даний, drbd]</td>\n",
       "      <td>0.663334</td>\n",
       "    </tr>\n",
       "    <tr>\n",
       "      <th>416158</th>\n",
       "      <td>Схема_бази_даних</td>\n",
       "      <td>[база, даний, моделювання, даний, управління, даний, схема, база, даний]</td>\n",
       "      <td>0.658570</td>\n",
       "    </tr>\n",
       "    <tr>\n",
       "      <th>752448</th>\n",
       "      <td>Знищення_даних</td>\n",
       "      <td>[інформаційний, безпека, зберігання, даний, знищення, даний]</td>\n",
       "      <td>0.655210</td>\n",
       "    </tr>\n",
       "  </tbody>\n",
       "</table>\n",
       "</div>"
      ],
      "text/plain": [
       "                uk_page_title  \\\n",
       "686491  Добування_даних         \n",
       "605734  Перечередування_даних   \n",
       "152199  Синхронізація_даних     \n",
       "70439   Редагування_даних       \n",
       "202383  Сховище_даних           \n",
       "201829  Групування_даних        \n",
       "553893  Система_обробки_даних   \n",
       "352904  DRBD                    \n",
       "416158  Схема_бази_даних        \n",
       "752448  Знищення_даних          \n",
       "\n",
       "                                                                                                                      categories  \\\n",
       "686491  [глибинний, аналіз, даний, зберігання, та, аналіз, корпоративний, даний, статистик, формальний, наука, добування, даний]   \n",
       "605734  [даний, перечередування, даний]                                                                                            \n",
       "152199  [база, даний, зберігання, даний, синхронізація, даний]                                                                     \n",
       "70439   [даний, обробка, інформація, редагування, даний]                                                                           \n",
       "202383  [база, даний, зберігання, та, аналіз, корпоративний, даний, сховище, даний]                                                \n",
       "201829  [аналіз, даний, групування, даний]                                                                                         \n",
       "553893  [даний, кібернетик, обробка, інформація, система, обробка, даний]                                                          \n",
       "352904  [зберігання, даний, drbd]                                                                                                  \n",
       "416158  [база, даний, моделювання, даний, управління, даний, схема, база, даний]                                                   \n",
       "752448  [інформаційний, безпека, зберігання, даний, знищення, даний]                                                               \n",
       "\n",
       "             sim  \n",
       "686491  0.744226  \n",
       "605734  0.733199  \n",
       "152199  0.724777  \n",
       "70439   0.681728  \n",
       "202383  0.679140  \n",
       "201829  0.678008  \n",
       "553893  0.672028  \n",
       "352904  0.663334  \n",
       "416158  0.658570  \n",
       "752448  0.655210  "
      ]
     },
     "execution_count": 43,
     "metadata": {},
     "output_type": "execute_result"
    }
   ],
   "source": [
    "pages_with_ranks = pages_with_ranks.sort_values('sim', axis=0, ascending=False)\n",
    "pages_with_ranks[['uk_page_title', 'categories', 'sim']].head(10)"
   ]
  },
  {
   "cell_type": "markdown",
   "metadata": {},
   "source": [
    "### Using LSH"
   ]
  },
  {
   "cell_type": "code",
   "execution_count": 44,
   "metadata": {},
   "outputs": [],
   "source": [
    "from sklearn.neighbors import LSHForest"
   ]
  },
  {
   "cell_type": "code",
   "execution_count": 45,
   "metadata": {},
   "outputs": [],
   "source": [
    "X_train = np.array(list(map(lambda x: x.tolist(), pages_with_ranks['weighted_cat_vector'])))"
   ]
  },
  {
   "cell_type": "code",
   "execution_count": 46,
   "metadata": {},
   "outputs": [
    {
     "name": "stderr",
     "output_type": "stream",
     "text": [
      "/anaconda3/lib/python3.7/site-packages/sklearn/neighbors/approximate.py:258: DeprecationWarning: LSHForest has poor performance and has been deprecated in 0.19. It will be removed in version 0.21.\n",
      "  DeprecationWarning)\n"
     ]
    },
    {
     "data": {
      "text/plain": [
       "LSHForest(min_hash_match=4, n_candidates=50, n_estimators=100, n_neighbors=10,\n",
       "     radius=1.0, radius_cutoff_ratio=0.9, random_state=42)"
      ]
     },
     "execution_count": 46,
     "metadata": {},
     "output_type": "execute_result"
    }
   ],
   "source": [
    "lshf = LSHForest(n_estimators=100, random_state=42, n_neighbors=10)\n",
    "lshf.fit(X_train)  "
   ]
  },
  {
   "cell_type": "code",
   "execution_count": 47,
   "metadata": {},
   "outputs": [
    {
     "data": {
      "text/html": [
       "<div>\n",
       "<style scoped>\n",
       "    .dataframe tbody tr th:only-of-type {\n",
       "        vertical-align: middle;\n",
       "    }\n",
       "\n",
       "    .dataframe tbody tr th {\n",
       "        vertical-align: top;\n",
       "    }\n",
       "\n",
       "    .dataframe thead th {\n",
       "        text-align: right;\n",
       "    }\n",
       "</style>\n",
       "<table border=\"1\" class=\"dataframe\">\n",
       "  <thead>\n",
       "    <tr style=\"text-align: right;\">\n",
       "      <th></th>\n",
       "      <th>uk_page_id</th>\n",
       "      <th>uk_page_title</th>\n",
       "      <th>categories</th>\n",
       "      <th>sim</th>\n",
       "    </tr>\n",
       "  </thead>\n",
       "  <tbody>\n",
       "    <tr>\n",
       "      <th>686491</th>\n",
       "      <td>2468286</td>\n",
       "      <td>Добування_даних</td>\n",
       "      <td>[глибинний, аналіз, даний, зберігання, та, аналіз, корпоративний, даний, статистик, формальний, наука, добування, даний]</td>\n",
       "      <td>0.744226</td>\n",
       "    </tr>\n",
       "    <tr>\n",
       "      <th>152199</th>\n",
       "      <td>481328</td>\n",
       "      <td>Синхронізація_даних</td>\n",
       "      <td>[база, даний, зберігання, даний, синхронізація, даний]</td>\n",
       "      <td>0.724777</td>\n",
       "    </tr>\n",
       "    <tr>\n",
       "      <th>70439</th>\n",
       "      <td>211948</td>\n",
       "      <td>Редагування_даних</td>\n",
       "      <td>[даний, обробка, інформація, редагування, даний]</td>\n",
       "      <td>0.681728</td>\n",
       "    </tr>\n",
       "    <tr>\n",
       "      <th>202383</th>\n",
       "      <td>692453</td>\n",
       "      <td>Сховище_даних</td>\n",
       "      <td>[база, даний, зберігання, та, аналіз, корпоративний, даний, сховище, даний]</td>\n",
       "      <td>0.679140</td>\n",
       "    </tr>\n",
       "    <tr>\n",
       "      <th>201829</th>\n",
       "      <td>689136</td>\n",
       "      <td>Групування_даних</td>\n",
       "      <td>[аналіз, даний, групування, даний]</td>\n",
       "      <td>0.678008</td>\n",
       "    </tr>\n",
       "    <tr>\n",
       "      <th>553893</th>\n",
       "      <td>1911422</td>\n",
       "      <td>Система_обробки_даних</td>\n",
       "      <td>[даний, кібернетик, обробка, інформація, система, обробка, даний]</td>\n",
       "      <td>0.672028</td>\n",
       "    </tr>\n",
       "    <tr>\n",
       "      <th>352904</th>\n",
       "      <td>1221358</td>\n",
       "      <td>DRBD</td>\n",
       "      <td>[зберігання, даний, drbd]</td>\n",
       "      <td>0.663334</td>\n",
       "    </tr>\n",
       "    <tr>\n",
       "      <th>416158</th>\n",
       "      <td>1464945</td>\n",
       "      <td>Схема_бази_даних</td>\n",
       "      <td>[база, даний, моделювання, даний, управління, даний, схема, база, даний]</td>\n",
       "      <td>0.658570</td>\n",
       "    </tr>\n",
       "    <tr>\n",
       "      <th>752448</th>\n",
       "      <td>2701601</td>\n",
       "      <td>Знищення_даних</td>\n",
       "      <td>[інформаційний, безпека, зберігання, даний, знищення, даний]</td>\n",
       "      <td>0.655210</td>\n",
       "    </tr>\n",
       "    <tr>\n",
       "      <th>722258</th>\n",
       "      <td>2572524</td>\n",
       "      <td>Фізична_модель_даних</td>\n",
       "      <td>[моделювання, даний, управління, даний, фізичний, модель, даний]</td>\n",
       "      <td>0.654179</td>\n",
       "    </tr>\n",
       "  </tbody>\n",
       "</table>\n",
       "</div>"
      ],
      "text/plain": [
       "        uk_page_id          uk_page_title  \\\n",
       "686491  2468286     Добування_даних         \n",
       "152199  481328      Синхронізація_даних     \n",
       "70439   211948      Редагування_даних       \n",
       "202383  692453      Сховище_даних           \n",
       "201829  689136      Групування_даних        \n",
       "553893  1911422     Система_обробки_даних   \n",
       "352904  1221358     DRBD                    \n",
       "416158  1464945     Схема_бази_даних        \n",
       "752448  2701601     Знищення_даних          \n",
       "722258  2572524     Фізична_модель_даних    \n",
       "\n",
       "                                                                                                                      categories  \\\n",
       "686491  [глибинний, аналіз, даний, зберігання, та, аналіз, корпоративний, даний, статистик, формальний, наука, добування, даний]   \n",
       "152199  [база, даний, зберігання, даний, синхронізація, даний]                                                                     \n",
       "70439   [даний, обробка, інформація, редагування, даний]                                                                           \n",
       "202383  [база, даний, зберігання, та, аналіз, корпоративний, даний, сховище, даний]                                                \n",
       "201829  [аналіз, даний, групування, даний]                                                                                         \n",
       "553893  [даний, кібернетик, обробка, інформація, система, обробка, даний]                                                          \n",
       "352904  [зберігання, даний, drbd]                                                                                                  \n",
       "416158  [база, даний, моделювання, даний, управління, даний, схема, база, даний]                                                   \n",
       "752448  [інформаційний, безпека, зберігання, даний, знищення, даний]                                                               \n",
       "722258  [моделювання, даний, управління, даний, фізичний, модель, даний]                                                           \n",
       "\n",
       "             sim  \n",
       "686491  0.744226  \n",
       "152199  0.724777  \n",
       "70439   0.681728  \n",
       "202383  0.679140  \n",
       "201829  0.678008  \n",
       "553893  0.672028  \n",
       "352904  0.663334  \n",
       "416158  0.658570  \n",
       "752448  0.655210  \n",
       "722258  0.654179  "
      ]
     },
     "execution_count": 47,
     "metadata": {},
     "output_type": "execute_result"
    }
   ],
   "source": [
    "_distances, indices = lshf.kneighbors([words_vector], n_neighbors=10)\n",
    "neighbors = pages_with_ranks.iloc[indices[0]]\n",
    "neighbors[['uk_page_id', 'uk_page_title', 'categories', 'sim']]"
   ]
  }
 ],
 "metadata": {
  "kernelspec": {
   "display_name": "Python 3",
   "language": "python",
   "name": "python3"
  },
  "language_info": {
   "codemirror_mode": {
    "name": "ipython",
    "version": 3
   },
   "file_extension": ".py",
   "mimetype": "text/x-python",
   "name": "python",
   "nbconvert_exporter": "python",
   "pygments_lexer": "ipython3",
   "version": "3.7.1"
  }
 },
 "nbformat": 4,
 "nbformat_minor": 2
}
